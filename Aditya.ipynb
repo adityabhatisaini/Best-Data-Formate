{
 "cells": [
  {
   "cell_type": "code",
   "execution_count": 47,
   "id": "52b28777-32ad-41dc-a6a5-ece236c957bd",
   "metadata": {},
   "outputs": [],
   "source": [
    "x1 = 'Python exam was very tough but somehow, I managed to crack it without using Internet and ChatGPT'\n",
    "\n",
    "with open('first.txt', 'w') as file:\n",
    "    file.write(x1)\n",
    "\n",
    "with open('first.txt', 'r') as file:\n",
    "    a2 = file.read().strip()\n",
    "\n",
    "new = []\n",
    "\n",
    "def word_extract():\n",
    "    words = [\"Python\", \"ChatGPT\", \"Internet\"]\n",
    "    for word in words:\n",
    "        if word in a2:\n",
    "            new.append(word) \n",
    "\n",
    "word_extract()\n",
    "\n",
    "\n",
    "\n",
    "z1=pd.DataFrame(new)\n",
    "z1.to_csv('second.txt')\n",
    "\n",
    "z2=pd.read_csv('second.txt')\n",
    "\n",
    "z3=z2[0].sum()\n",
    "\n",
    "counting total z2 item and lenght"
   ]
  },
  {
   "cell_type": "code",
   "execution_count": 52,
   "id": "306df01c-3f72-4bcb-a334-e77efbb272ab",
   "metadata": {},
   "outputs": [],
   "source": [
    "z1=pd.DataFrame(new)\n",
    "z1.to_csv('second.txt')"
   ]
  },
  {
   "cell_type": "code",
   "execution_count": 54,
   "id": "43e4818d-8262-4108-9151-273af0dfb3a8",
   "metadata": {},
   "outputs": [
    {
     "name": "stdout",
     "output_type": "stream",
     "text": [
      "   Unnamed: 0         0\n",
      "0           0    Python\n",
      "1           1   ChatGPT\n",
      "2           2  Internet\n"
     ]
    }
   ],
   "source": [
    "z2=pd.read_csv('second.txt')\n"
   ]
  },
  {
   "cell_type": "code",
   "execution_count": 58,
   "id": "8e083bb6-e46e-4690-9fdc-7fb90e88be60",
   "metadata": {},
   "outputs": [
    {
     "ename": "KeyError",
     "evalue": "('Python', 'ChatGPT', 'Internet')",
     "output_type": "error",
     "traceback": [
      "\u001b[1;31m---------------------------------------------------------------------------\u001b[0m",
      "\u001b[1;31mKeyError\u001b[0m                                  Traceback (most recent call last)",
      "File \u001b[1;32m~\\anaconda3\\Lib\\site-packages\\pandas\\core\\indexes\\base.py:3791\u001b[0m, in \u001b[0;36mIndex.get_loc\u001b[1;34m(self, key)\u001b[0m\n\u001b[0;32m   3790\u001b[0m \u001b[38;5;28;01mtry\u001b[39;00m:\n\u001b[1;32m-> 3791\u001b[0m     \u001b[38;5;28;01mreturn\u001b[39;00m \u001b[38;5;28mself\u001b[39m\u001b[38;5;241m.\u001b[39m_engine\u001b[38;5;241m.\u001b[39mget_loc(casted_key)\n\u001b[0;32m   3792\u001b[0m \u001b[38;5;28;01mexcept\u001b[39;00m \u001b[38;5;167;01mKeyError\u001b[39;00m \u001b[38;5;28;01mas\u001b[39;00m err:\n",
      "File \u001b[1;32mindex.pyx:152\u001b[0m, in \u001b[0;36mpandas._libs.index.IndexEngine.get_loc\u001b[1;34m()\u001b[0m\n",
      "File \u001b[1;32mindex.pyx:181\u001b[0m, in \u001b[0;36mpandas._libs.index.IndexEngine.get_loc\u001b[1;34m()\u001b[0m\n",
      "File \u001b[1;32mpandas\\_libs\\hashtable_class_helper.pxi:7080\u001b[0m, in \u001b[0;36mpandas._libs.hashtable.PyObjectHashTable.get_item\u001b[1;34m()\u001b[0m\n",
      "File \u001b[1;32mpandas\\_libs\\hashtable_class_helper.pxi:7088\u001b[0m, in \u001b[0;36mpandas._libs.hashtable.PyObjectHashTable.get_item\u001b[1;34m()\u001b[0m\n",
      "\u001b[1;31mKeyError\u001b[0m: ('Python', 'ChatGPT', 'Internet')",
      "\nThe above exception was the direct cause of the following exception:\n",
      "\u001b[1;31mKeyError\u001b[0m                                  Traceback (most recent call last)",
      "Cell \u001b[1;32mIn[58], line 1\u001b[0m\n\u001b[1;32m----> 1\u001b[0m z3\u001b[38;5;241m=\u001b[39mz2[\u001b[38;5;124m\"\u001b[39m\u001b[38;5;124mPython\u001b[39m\u001b[38;5;124m\"\u001b[39m, \u001b[38;5;124m\"\u001b[39m\u001b[38;5;124mChatGPT\u001b[39m\u001b[38;5;124m\"\u001b[39m, \u001b[38;5;124m\"\u001b[39m\u001b[38;5;124mInternet\u001b[39m\u001b[38;5;124m\"\u001b[39m]\u001b[38;5;241m.\u001b[39msum()\n",
      "File \u001b[1;32m~\\anaconda3\\Lib\\site-packages\\pandas\\core\\frame.py:3893\u001b[0m, in \u001b[0;36mDataFrame.__getitem__\u001b[1;34m(self, key)\u001b[0m\n\u001b[0;32m   3891\u001b[0m \u001b[38;5;28;01mif\u001b[39;00m \u001b[38;5;28mself\u001b[39m\u001b[38;5;241m.\u001b[39mcolumns\u001b[38;5;241m.\u001b[39mnlevels \u001b[38;5;241m>\u001b[39m \u001b[38;5;241m1\u001b[39m:\n\u001b[0;32m   3892\u001b[0m     \u001b[38;5;28;01mreturn\u001b[39;00m \u001b[38;5;28mself\u001b[39m\u001b[38;5;241m.\u001b[39m_getitem_multilevel(key)\n\u001b[1;32m-> 3893\u001b[0m indexer \u001b[38;5;241m=\u001b[39m \u001b[38;5;28mself\u001b[39m\u001b[38;5;241m.\u001b[39mcolumns\u001b[38;5;241m.\u001b[39mget_loc(key)\n\u001b[0;32m   3894\u001b[0m \u001b[38;5;28;01mif\u001b[39;00m is_integer(indexer):\n\u001b[0;32m   3895\u001b[0m     indexer \u001b[38;5;241m=\u001b[39m [indexer]\n",
      "File \u001b[1;32m~\\anaconda3\\Lib\\site-packages\\pandas\\core\\indexes\\base.py:3798\u001b[0m, in \u001b[0;36mIndex.get_loc\u001b[1;34m(self, key)\u001b[0m\n\u001b[0;32m   3793\u001b[0m     \u001b[38;5;28;01mif\u001b[39;00m \u001b[38;5;28misinstance\u001b[39m(casted_key, \u001b[38;5;28mslice\u001b[39m) \u001b[38;5;129;01mor\u001b[39;00m (\n\u001b[0;32m   3794\u001b[0m         \u001b[38;5;28misinstance\u001b[39m(casted_key, abc\u001b[38;5;241m.\u001b[39mIterable)\n\u001b[0;32m   3795\u001b[0m         \u001b[38;5;129;01mand\u001b[39;00m \u001b[38;5;28many\u001b[39m(\u001b[38;5;28misinstance\u001b[39m(x, \u001b[38;5;28mslice\u001b[39m) \u001b[38;5;28;01mfor\u001b[39;00m x \u001b[38;5;129;01min\u001b[39;00m casted_key)\n\u001b[0;32m   3796\u001b[0m     ):\n\u001b[0;32m   3797\u001b[0m         \u001b[38;5;28;01mraise\u001b[39;00m InvalidIndexError(key)\n\u001b[1;32m-> 3798\u001b[0m     \u001b[38;5;28;01mraise\u001b[39;00m \u001b[38;5;167;01mKeyError\u001b[39;00m(key) \u001b[38;5;28;01mfrom\u001b[39;00m \u001b[38;5;21;01merr\u001b[39;00m\n\u001b[0;32m   3799\u001b[0m \u001b[38;5;28;01mexcept\u001b[39;00m \u001b[38;5;167;01mTypeError\u001b[39;00m:\n\u001b[0;32m   3800\u001b[0m     \u001b[38;5;66;03m# If we have a listlike key, _check_indexing_error will raise\u001b[39;00m\n\u001b[0;32m   3801\u001b[0m     \u001b[38;5;66;03m#  InvalidIndexError. Otherwise we fall through and re-raise\u001b[39;00m\n\u001b[0;32m   3802\u001b[0m     \u001b[38;5;66;03m#  the TypeError.\u001b[39;00m\n\u001b[0;32m   3803\u001b[0m     \u001b[38;5;28mself\u001b[39m\u001b[38;5;241m.\u001b[39m_check_indexing_error(key)\n",
      "\u001b[1;31mKeyError\u001b[0m: ('Python', 'ChatGPT', 'Internet')"
     ]
    }
   ],
   "source": [
    "z3=z2[\"Python\", \"ChatGPT\", \"Internet\"].sum()"
   ]
  },
  {
   "cell_type": "code",
   "execution_count": null,
   "id": "8f33fbce-1012-43be-becd-97223260e71a",
   "metadata": {},
   "outputs": [],
   "source": []
  },
  {
   "cell_type": "code",
   "execution_count": 46,
   "id": "c19c1dde-1615-4fc0-9e93-4156b14cc988",
   "metadata": {},
   "outputs": [
    {
     "name": "stdout",
     "output_type": "stream",
     "text": [
      "['Python', 'ChatGPT', 'Internet']\n"
     ]
    }
   ],
   "source": [
    "print(new)"
   ]
  },
  {
   "cell_type": "code",
   "execution_count": 49,
   "id": "d66cf915-1039-4555-b699-cf082cec9374",
   "metadata": {},
   "outputs": [
    {
     "name": "stdout",
     "output_type": "stream",
     "text": [
      "3\n"
     ]
    }
   ],
   "source": [
    "print(len(new))"
   ]
  },
  {
   "cell_type": "code",
   "execution_count": null,
   "id": "0fa2ce87-63a3-4b76-98a2-f7dda16b456a",
   "metadata": {},
   "outputs": [],
   "source": []
  },
  {
   "cell_type": "code",
   "execution_count": null,
   "id": "a4ffdad7-e465-4973-9747-cbcf9d77cdc1",
   "metadata": {},
   "outputs": [],
   "source": [
    "import pandas as pd\n",
    "words"
   ]
  },
  {
   "cell_type": "code",
   "execution_count": 1,
   "id": "b5dc63f5-2499-468c-8f14-52398f7df79d",
   "metadata": {},
   "outputs": [],
   "source": [
    "x1='Python exam was very tough but somehow, I managed to crack it without using Internet and ChatGPT'\n",
    "make a function to get Python, ChatGPT and internet name only using python"
   ]
  },
  {
   "cell_type": "code",
   "execution_count": 35,
   "id": "148ac100-6802-4525-84e7-6c17f01ecd48",
   "metadata": {},
   "outputs": [],
   "source": [
    "x1 = 'Python exam was very tough but somehow, I managed to crack it without using Internet and ChatGPT'\n",
    "with open('first.txt', 'w') as file:\n",
    "    file.write(x1)"
   ]
  },
  {
   "cell_type": "code",
   "execution_count": 19,
   "id": "16e87c04-05db-41d6-9ed2-1d64ce4d8ed4",
   "metadata": {},
   "outputs": [],
   "source": [
    "import pandas as pd"
   ]
  },
  {
   "cell_type": "code",
   "execution_count": 20,
   "id": "4634043e-6d56-4751-a576-8f701975611d",
   "metadata": {},
   "outputs": [],
   "source": [
    "a1=pd.read_csv('first.txt',header=None)"
   ]
  },
  {
   "cell_type": "code",
   "execution_count": 21,
   "id": "ba243dfb-f806-41af-8c1c-cdaa883ee8f5",
   "metadata": {},
   "outputs": [],
   "source": [
    "a2=a1.to_string(index=False,header=False)"
   ]
  },
  {
   "cell_type": "code",
   "execution_count": 22,
   "id": "9585a512-60e3-4341-a7df-7e359a04a4d7",
   "metadata": {},
   "outputs": [
    {
     "name": "stdout",
     "output_type": "stream",
     "text": [
      "Python exam was very tough but somehow  I managed to crack it without using Internet and ChatGPT\n"
     ]
    }
   ],
   "source": [
    "print(a2)"
   ]
  },
  {
   "cell_type": "code",
   "execution_count": 34,
   "id": "f6d71008-8d87-4a47-a840-45d7a6e0a9a6",
   "metadata": {},
   "outputs": [],
   "source": [
    "def word_extract():\n",
    "    words = [\"Python\", \"ChatGPT\", \"Internet\"]\n",
    "  \n",
    "    for i in words:\n",
    "        if i == a2:\n",
    "            print(i)  \n",
    "\n",
    "word_extract()\n",
    "\n"
   ]
  },
  {
   "cell_type": "code",
   "execution_count": 61,
   "id": "54fc4fd7-8eeb-495a-a4de-a497f71648d8",
   "metadata": {},
   "outputs": [
    {
     "name": "stdout",
     "output_type": "stream",
     "text": [
      "Total items: 3\n",
      "Total length of all words combined: 21\n"
     ]
    }
   ],
   "source": [
    "import pandas as pd\n",
    "\n",
    "\n",
    "x1 = 'Python exam was very tough but somehow, I managed to crack it without using Internet and ChatGPT'\n",
    "with open('first.txt', 'w') as file:\n",
    "    file.write(x1)\n",
    "\n",
    "\n",
    "with open('first.txt', 'r') as file:\n",
    "    a2 = file.read().strip()\n",
    "\n",
    "\n",
    "new = []\n",
    "\n",
    "def word_extract():\n",
    "    words = [\"Python\", \"ChatGPT\", \"Internet\"]\n",
    "    for word in words:\n",
    "        if word in a2:\n",
    "            new.append(word)\n",
    "\n",
    "word_extract()\n",
    "\n",
    "\n",
    "z1 = pd.DataFrame(new, columns=[\"Words\"]) \n",
    "z1.to_csv('second.txt', index=False)\n",
    "\n",
    "\n",
    "z2 = pd.read_csv('second.txt')\n",
    "\n",
    "\n",
    "total_items = len(z2)\n",
    "\n",
    "\n",
    "total_length = z2['Words'].apply(len).sum() \n",
    "\n",
    "\n",
    "\n",
    "print(f\"Total items: {total_items}\")\n",
    "print(f\"Total length of all words combined: {total_length}\")\n"
   ]
  }
 ],
 "metadata": {
  "kernelspec": {
   "display_name": "Python 3 (ipykernel)",
   "language": "python",
   "name": "python3"
  },
  "language_info": {
   "codemirror_mode": {
    "name": "ipython",
    "version": 3
   },
   "file_extension": ".py",
   "mimetype": "text/x-python",
   "name": "python",
   "nbconvert_exporter": "python",
   "pygments_lexer": "ipython3",
   "version": "3.11.7"
  }
 },
 "nbformat": 4,
 "nbformat_minor": 5
}
